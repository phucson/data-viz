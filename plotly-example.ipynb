{
 "cells": [
  {
   "cell_type": "markdown",
   "metadata": {},
   "source": [
    "# https://www.kaggle.com/bulentsiyah/data-science-and-visualization-exercise\n",
    "# A few more plots can be added"
   ]
  },
  {
   "cell_type": "code",
   "execution_count": null,
   "metadata": {},
   "outputs": [],
   "source": [
    "!pip install chart-studio\n",
    "!pip install wordcloud"
   ]
  },
  {
   "cell_type": "code",
   "execution_count": null,
   "metadata": {},
   "outputs": [],
   "source": [
    "import pandas as pd\n",
    "import numpy as np\n",
    "import matplotlib.pyplot as plt\n",
    "\n",
    "from chart_studio.plotly import plot\n",
    "from plotly.offline import init_notebook_mode, iplot\n",
    "init_notebook_mode(connected=True)\n",
    "import plotly.graph_objs as go\n",
    "\n",
    "from wordcloud import WordCloud"
   ]
  },
  {
   "cell_type": "code",
   "execution_count": null,
   "metadata": {},
   "outputs": [],
   "source": [
    "df = pd.read_csv('timesData.csv')\n",
    "print(df.info())\n",
    "print(df.describe())"
   ]
  },
  {
   "cell_type": "markdown",
   "metadata": {},
   "source": [
    "# Scatter plot and line plots"
   ]
  },
  {
   "cell_type": "code",
   "execution_count": null,
   "metadata": {},
   "outputs": [],
   "source": [
    "dat = df.iloc[:20,:]\n",
    "\n",
    "# Create trace1\n",
    "trace1 = go.Scatter(\n",
    "                    x = dat.world_rank,\n",
    "                    y = dat.citations,\n",
    "                    mode = 'lines',\n",
    "                    name = 'citations',\n",
    "                    marker = dict(color = 'rgba(16,112,2,0.8)'),\n",
    "                    text = dat.university_name)\n",
    "\n",
    "# Create trace2\n",
    "trace2 = go.Scatter(\n",
    "                    x = dat.world_rank,\n",
    "                    y = dat.teaching,\n",
    "                    mode = 'lines+markers',\n",
    "                    name = 'teaching',\n",
    "                    marker = dict(color='rgba(80,26,80,0.8)'),\n",
    "                    text = dat.university_name)\n",
    "data = [trace1, trace2]\n",
    "layout = dict(title='Citation and Teaching',\n",
    "              xaxis=dict(title='world rank',\n",
    "                         ticklen=5,\n",
    "                         zeroline=False),\n",
    "              yaxis= dict(title= 'Citation',\n",
    "                          ticklen= 5,\n",
    "                          zeroline= False)\n",
    "             )\n",
    "fig = dict(data=data, layout=layout)\n",
    "iplot(fig)"
   ]
  },
  {
   "cell_type": "markdown",
   "metadata": {},
   "source": [
    "# Bar plot"
   ]
  },
  {
   "cell_type": "code",
   "execution_count": null,
   "metadata": {},
   "outputs": [],
   "source": [
    "df2014 = df[df.year == 2014].iloc[:4,:]"
   ]
  },
  {
   "cell_type": "code",
   "execution_count": null,
   "metadata": {},
   "outputs": [],
   "source": [
    "trace1 = go.Bar(\n",
    "                x = df2014.university_name,\n",
    "                y = df2014.citations,\n",
    "                name = 'citations',\n",
    "                marker = dict(color='rgba(255, 174, 225, 0.5)',\n",
    "                             line=dict(color='rgb(0,0,0)',\n",
    "                                      width=1.5)),\n",
    "                text=df2014.country)\n",
    "\n",
    "trace2 = go.Bar(\n",
    "                x = df2014.university_name,\n",
    "                y = df2014.teaching,\n",
    "                name= 'teaching',\n",
    "                marker = dict(color='rgba(255, 255, 128, 0.5)',\n",
    "                             line=dict(color='rgb(0,0,0)',\n",
    "                                      width=1.5)),\n",
    "                text=df2014.country)\n",
    "data = [trace1, trace2]\n",
    "layout = go.Layout(barmode='group')\n",
    "fig = go.Figure(data=data, layout=layout)\n",
    "iplot(fig)"
   ]
  },
  {
   "cell_type": "markdown",
   "metadata": {},
   "source": [
    "# Bubble plot"
   ]
  },
  {
   "cell_type": "code",
   "execution_count": null,
   "metadata": {},
   "outputs": [],
   "source": [
    "df2016 = df[df.year==2016].iloc[:20,:]\n",
    "num_students_size = [float(item.replace(',','.')) \n",
    "                     for item in df2016.num_students]\n",
    "international_color = [float(item) for item in df2016.international]\n",
    "\n",
    "data = [\n",
    "    {\n",
    "        'y': df2016.teaching,\n",
    "        'x': df2016.world_rank,\n",
    "        'mode': 'markers',\n",
    "        'marker': {\n",
    "            'color': international_color,\n",
    "            'size': num_students_size,\n",
    "            'showscale': True\n",
    "        },\n",
    "        'text': df2016.university_name\n",
    "    }\n",
    "]\n",
    "iplot(data)"
   ]
  },
  {
   "cell_type": "markdown",
   "metadata": {},
   "source": [
    "# Histogram"
   ]
  },
  {
   "cell_type": "code",
   "execution_count": null,
   "metadata": {},
   "outputs": [],
   "source": [
    "x2011 = df.student_staff_ratio[df.year==2011]\n",
    "x2012 = df.student_staff_ratio[df.year==2012]\n",
    "\n",
    "trace1 = go.Histogram(\n",
    "                    x=x2011,\n",
    "                    opacity=0.75,\n",
    "                    name='2011',\n",
    "                    marker=dict(color='rgba(12,50,196,0.6)'))\n",
    "trace2 = go.Histogram(\n",
    "                    x=x2012,\n",
    "                    opacity=0.75,\n",
    "                    name='2012',\n",
    "                    marker=dict(color='rgba(171,50,96,0.6)'))\n",
    "data = [trace1, trace2]\n",
    "layout = go.Layout(\n",
    "                    barmode='overlay',\n",
    "                    title='students staff ratio in 2011 and 2012',\n",
    "                    xaxis=dict(title='students-staff ratio'),\n",
    "                    yaxis=dict(title='count'))\n",
    "fig = go.Figure(data=data, layout=layout)\n",
    "iplot(fig)"
   ]
  },
  {
   "cell_type": "markdown",
   "metadata": {},
   "source": [
    "# Box plot"
   ]
  },
  {
   "cell_type": "code",
   "execution_count": null,
   "metadata": {},
   "outputs": [],
   "source": [
    "x2015 = df[df.year==2015]\n",
    "\n",
    "trace0 = go.Box(\n",
    "                y=x2015.total_score,\n",
    "                name='total score of universities in 2015',\n",
    "                marker=dict(\n",
    "                            color='rgb(12,12,140)'))\n",
    "trace1 = go.Box(\n",
    "                y=x2015.research,\n",
    "                name='research of universities in 2015',\n",
    "                marker=dict(\n",
    "                            color='rgb(12,128,128)'))\n",
    "data = [trace0, trace1]\n",
    "iplot(data)"
   ]
  },
  {
   "cell_type": "code",
   "execution_count": null,
   "metadata": {},
   "outputs": [],
   "source": []
  }
 ],
 "metadata": {
  "kernelspec": {
   "display_name": "Python 3",
   "language": "python",
   "name": "python3"
  },
  "language_info": {
   "codemirror_mode": {
    "name": "ipython",
    "version": 3
   },
   "file_extension": ".py",
   "mimetype": "text/x-python",
   "name": "python",
   "nbconvert_exporter": "python",
   "pygments_lexer": "ipython3",
   "version": "3.6.10"
  }
 },
 "nbformat": 4,
 "nbformat_minor": 4
}
