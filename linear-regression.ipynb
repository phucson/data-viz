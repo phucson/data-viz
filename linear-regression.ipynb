{
 "cells": [
  {
   "cell_type": "markdown",
   "metadata": {},
   "source": [
    "# Linear regression plot"
   ]
  },
  {
   "cell_type": "code",
   "execution_count": null,
   "metadata": {},
   "outputs": [],
   "source": [
    "import pandas as pd\n",
    "import matplotlib.pyplot as plt\n",
    "import seaborn as sns"
   ]
  },
  {
   "cell_type": "markdown",
   "metadata": {},
   "source": [
    "Load dataset 'tips'"
   ]
  },
  {
   "cell_type": "code",
   "execution_count": null,
   "metadata": {},
   "outputs": [],
   "source": [
    "tips = sns.load_dataset('tips')\n",
    "print(tips.info())\n",
    "print(tips.describe())"
   ]
  },
  {
   "cell_type": "code",
   "execution_count": null,
   "metadata": {},
   "outputs": [],
   "source": [
    "# density plots\n",
    "f, axes = plt.subplots(2,2, figsize=(15,8))\n",
    "sns.distplot(tips['total_bill'], ax=axes[0,0])\n",
    "sns.distplot(tips['total_bill'], kde=False, ax=axes[0,1])\n",
    "sns.distplot(tips['tip'], ax=axes[1,0])\n",
    "sns.distplot(tips['tip'], kde=False, ax=axes[1,1])"
   ]
  },
  {
   "cell_type": "code",
   "execution_count": null,
   "metadata": {
    "scrolled": true
   },
   "outputs": [],
   "source": [
    "# joint plot\n",
    "sns.set_style('ticks')\n",
    "sns.pairplot(tips[['total_bill', 'tip']], diag_kind='kde',\n",
    "            kind='scatter')"
   ]
  },
  {
   "cell_type": "code",
   "execution_count": null,
   "metadata": {},
   "outputs": [],
   "source": [
    "# joint plot\n",
    "sns.set_style('ticks')\n",
    "sns.pairplot(tips[['total_bill', 'tip','sex']], diag_kind='kde',\n",
    "            kind='scatter', hue='sex')"
   ]
  },
  {
   "cell_type": "code",
   "execution_count": 24,
   "metadata": {},
   "outputs": [
    {
     "data": {
      "image/png": "[encoded data removed]",
      "text/plain": [
       "<Figure size 432x216 with 2 Axes>"
      ]
     },
     "metadata": {},
     "output_type": "display_data"
    }
   ],
   "source": [
    "g = sns.FacetGrid(tips, col='smoker')\n",
    "g.map(plt.hist, 'tip')\n",
    "plt.show()"
   ]
  },
  {
   "cell_type": "code",
   "execution_count": null,
   "metadata": {},
   "outputs": [],
   "source": [
    "# draw linear regression line\n",
    "sns.lmplot(x='total_bill', y='tip', data=tips)"
   ]
  },
  {
   "cell_type": "code",
   "execution_count": null,
   "metadata": {},
   "outputs": [],
   "source": [
    "# Show all categorical columns in tips\n",
    "tips.select_dtypes(['category'])"
   ]
  },
  {
   "cell_type": "code",
   "execution_count": null,
   "metadata": {},
   "outputs": [],
   "source": [
    "# Distinguish Male/Female using 'Sex' with colors\n",
    "sns.lmplot(x='total_bill', y='tip', data=tips, hue='sex', palette='Set1')"
   ]
  },
  {
   "cell_type": "code",
   "execution_count": null,
   "metadata": {},
   "outputs": [],
   "source": [
    "# Separate Male/Female into two different plots\n",
    "sns.lmplot(x='total_bill', y='tip', data=tips, col='sex')"
   ]
  },
  {
   "cell_type": "code",
   "execution_count": null,
   "metadata": {},
   "outputs": [],
   "source": [
    "# Residual plots\n",
    "sns.residplot(x='total_bill', y='tip', data=tips, color='indianred')"
   ]
  },
  {
   "cell_type": "markdown",
   "metadata": {},
   "source": [
    "## Univariate distributions"
   ]
  },
  {
   "cell_type": "code",
   "execution_count": null,
   "metadata": {},
   "outputs": [],
   "source": [
    "# strip plot\n",
    "# one numeric variable\n",
    "sns.stripplot(y='tip', data=tips)"
   ]
  },
  {
   "cell_type": "code",
   "execution_count": null,
   "metadata": {},
   "outputs": [],
   "source": [
    "# numeric variables grouped by a categorical variable\n",
    "sns.stripplot(x='day', y='tip', data=tips)"
   ]
  },
  {
   "cell_type": "code",
   "execution_count": null,
   "metadata": {},
   "outputs": [],
   "source": [
    "# control point size\n",
    "sns.stripplot(x='day', y='tip', data=tips, size=8, jitter=True)"
   ]
  },
  {
   "cell_type": "code",
   "execution_count": null,
   "metadata": {},
   "outputs": [],
   "source": [
    "#swarm plot\n",
    "sns.swarmplot(x='day', y='tip', data=tips)"
   ]
  },
  {
   "cell_type": "code",
   "execution_count": null,
   "metadata": {},
   "outputs": [],
   "source": [
    "# hue\n",
    "sns.swarmplot(x='day', y='tip', data=tips, hue='sex')"
   ]
  },
  {
   "cell_type": "code",
   "execution_count": null,
   "metadata": {},
   "outputs": [],
   "source": [
    "# change direction\n",
    "sns.swarmplot(x='day', y='tip', data=tips, hue='sex', orient='h')"
   ]
  },
  {
   "cell_type": "code",
   "execution_count": null,
   "metadata": {},
   "outputs": [],
   "source": [
    "# boxplot\n",
    "plt.subplot(1,2,1)\n",
    "sns.boxplot(x='day', y='tip', data=tips)\n",
    "plt.ylabel('tip ($)')\n",
    "plt.subplot(1,2,2)\n",
    "sns.violinplot(x='day', y='tip', data=tips)\n",
    "plt.ylabel('tip ($)')"
   ]
  },
  {
   "cell_type": "code",
   "execution_count": null,
   "metadata": {},
   "outputs": [],
   "source": []
  }
 ],
 "metadata": {
  "kernelspec": {
   "display_name": "Python 3",
   "language": "python",
   "name": "python3"
  },
  "language_info": {
   "codemirror_mode": {
    "name": "ipython",
    "version": 3
   },
   "file_extension": ".py",
   "mimetype": "text/x-python",
   "name": "python",
   "nbconvert_exporter": "python",
   "pygments_lexer": "ipython3",
   "version": "3.6.10"
  }
 },
 "nbformat": 4,
 "nbformat_minor": 4
}
