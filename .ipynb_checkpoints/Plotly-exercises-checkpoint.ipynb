{
 "cells": [
  {
   "cell_type": "code",
   "execution_count": 2,
   "metadata": {},
   "outputs": [
    {
     "data": {
      "text/html": [
       "        <script type=\"text/javascript\">\n",
       "        window.PlotlyConfig = {MathJaxConfig: 'local'};\n",
       "        if (window.MathJax) {MathJax.Hub.Config({SVG: {font: \"STIX-Web\"}});}\n",
       "        if (typeof require !== 'undefined') {\n",
       "        require.undef(\"plotly\");\n",
       "        requirejs.config({\n",
       "            paths: {\n",
       "                'plotly': ['https://cdn.plot.ly/plotly-latest.min']\n",
       "            }\n",
       "        });\n",
       "        require(['plotly'], function(Plotly) {\n",
       "            window._Plotly = Plotly;\n",
       "        });\n",
       "        }\n",
       "        </script>\n",
       "        "
      ]
     },
     "metadata": {},
     "output_type": "display_data"
    }
   ],
   "source": [
    "import pandas as pd\n",
    "import matplotlib.pyplot as plt\n",
    "\n",
    "from chart_studio.plotly import plot\n",
    "from plotly.offline import init_notebook_mode, iplot\n",
    "import plotly.graph_objs as go\n",
    "\n",
    "init_notebook_mode(connected=True)"
   ]
  },
  {
   "cell_type": "code",
   "execution_count": 10,
   "metadata": {},
   "outputs": [],
   "source": [
    "import pandas as pd\n",
    "hpi_url = \"https://bit.ly/2ZbWXKH\"\n",
    "\n",
    "df = pd.read_csv(hpi_url, sep='\\t')"
   ]
  },
  {
   "cell_type": "code",
   "execution_count": 11,
   "metadata": {},
   "outputs": [
    {
     "name": "stdout",
     "output_type": "stream",
     "text": [
      "<class 'pandas.core.frame.DataFrame'>\n",
      "RangeIndex: 140 entries, 0 to 139\n",
      "Data columns (total 8 columns):\n",
      " #   Column                             Non-Null Count  Dtype  \n",
      "---  ------                             --------------  -----  \n",
      " 0   HPI Rank                           140 non-null    int64  \n",
      " 1   Country                            140 non-null    object \n",
      " 2   Region                             140 non-null    object \n",
      " 3   Life Expectancy (years)            140 non-null    float64\n",
      " 4   Wellbeing (0-10)                   140 non-null    float64\n",
      " 5   Inequality of outcomes             140 non-null    object \n",
      " 6   Ecological Footprint (gha/capita)  140 non-null    float64\n",
      " 7   Happy Planet Index                 140 non-null    float64\n",
      "dtypes: float64(4), int64(1), object(3)\n",
      "memory usage: 8.9+ KB\n",
      "None\n",
      "   HPI Rank     Country        Region  Life Expectancy (years)  \\\n",
      "0         1  Costa Rica      Americas                     79.1   \n",
      "1         2      Mexico      Americas                     76.4   \n",
      "2         3    Colombia      Americas                     73.7   \n",
      "3         4     Vanuatu  Asia Pacific                     71.3   \n",
      "4         5     Vietnam  Asia Pacific                     75.5   \n",
      "\n",
      "   Wellbeing (0-10) Inequality of outcomes  Ecological Footprint (gha/capita)  \\\n",
      "0               7.3                    15%                                2.8   \n",
      "1               7.3                    19%                                2.9   \n",
      "2               6.4                    24%                                1.9   \n",
      "3               6.5                    22%                                1.9   \n",
      "4               5.5                    19%                                1.7   \n",
      "\n",
      "   Happy Planet Index  \n",
      "0                44.7  \n",
      "1                40.7  \n",
      "2                40.7  \n",
      "3                40.6  \n",
      "4                40.3  \n"
     ]
    }
   ],
   "source": [
    "print(df.info())\n",
    "print(df.head())"
   ]
  },
  {
   "cell_type": "code",
   "execution_count": null,
   "metadata": {},
   "outputs": [],
   "source": [
    "dat"
   ]
  }
 ],
 "metadata": {
  "kernelspec": {
   "display_name": "Python 3",
   "language": "python",
   "name": "python3"
  },
  "language_info": {
   "codemirror_mode": {
    "name": "ipython",
    "version": 3
   },
   "file_extension": ".py",
   "mimetype": "text/x-python",
   "name": "python",
   "nbconvert_exporter": "python",
   "pygments_lexer": "ipython3",
   "version": "3.6.10"
  }
 },
 "nbformat": 4,
 "nbformat_minor": 4
}
